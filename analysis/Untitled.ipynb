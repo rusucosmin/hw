{
 "cells": [
  {
   "cell_type": "code",
   "execution_count": 288,
   "metadata": {},
   "outputs": [],
   "source": [
    "from os import listdir\n",
    "from os.path import isfile, join\n",
    "import pandas as pd\n",
    "import json\n",
    "from pandas.io.json import json_normalize\n",
    "import matplotlib.pyplot as plt\n",
    "import numpy as np\n",
    "from dateutil.parser import parse\n",
    "from utils import mean_2d_diff_size"
   ]
  },
  {
   "cell_type": "code",
   "execution_count": 289,
   "metadata": {},
   "outputs": [],
   "source": [
    "LOGS_PATH = \"../logs/\"\n",
    "objs_in_path = listdir(LOGS_PATH)\n",
    "data_paths = [join(LOGS_PATH, f) for f in objs_in_path if isfile(join(LOGS_PATH, f)) and 'json' in f]"
   ]
  },
  {
   "cell_type": "code",
   "execution_count": 290,
   "metadata": {},
   "outputs": [
    {
     "data": {
      "text/html": [
       "<div>\n",
       "<style scoped>\n",
       "    .dataframe tbody tr th:only-of-type {\n",
       "        vertical-align: middle;\n",
       "    }\n",
       "\n",
       "    .dataframe tbody tr th {\n",
       "        vertical-align: top;\n",
       "    }\n",
       "\n",
       "    .dataframe thead th {\n",
       "        text-align: right;\n",
       "    }\n",
       "</style>\n",
       "<table border=\"1\" class=\"dataframe\">\n",
       "  <thead>\n",
       "    <tr style=\"text-align: right;\">\n",
       "      <th></th>\n",
       "      <th>batch</th>\n",
       "      <th>end-compute-time</th>\n",
       "      <th>end_time</th>\n",
       "      <th>epochs</th>\n",
       "      <th>epochs-stats</th>\n",
       "      <th>learning_rate</th>\n",
       "      <th>num_workers</th>\n",
       "      <th>reg_lambda</th>\n",
       "      <th>start-compute-time</th>\n",
       "      <th>start-time</th>\n",
       "      <th>test_accuracy</th>\n",
       "      <th>train_accuracy</th>\n",
       "    </tr>\n",
       "  </thead>\n",
       "  <tbody>\n",
       "    <tr>\n",
       "      <th>0</th>\n",
       "      <td>100</td>\n",
       "      <td>2019-04-13 19:38:10.781979</td>\n",
       "      <td>2019-04-13 19:40:35.326959</td>\n",
       "      <td>200</td>\n",
       "      <td>[{'epoch_end': '2019-04-13 19:37:03.617977', '...</td>\n",
       "      <td>0.006</td>\n",
       "      <td>5</td>\n",
       "      <td>0.00001</td>\n",
       "      <td>2019-04-13 19:36:58.318321</td>\n",
       "      <td>2019-04-13 19:36:29.811085</td>\n",
       "      <td>0.865042</td>\n",
       "      <td>0.877062</td>\n",
       "    </tr>\n",
       "    <tr>\n",
       "      <th>1</th>\n",
       "      <td>100</td>\n",
       "      <td>2019-04-13 20:05:55.157591</td>\n",
       "      <td>2019-04-13 20:08:42.346215</td>\n",
       "      <td>200</td>\n",
       "      <td>[{'epoch_end': '2019-04-13 20:04:42.611127', '...</td>\n",
       "      <td>0.010</td>\n",
       "      <td>3</td>\n",
       "      <td>0.00001</td>\n",
       "      <td>2019-04-13 20:04:37.173416</td>\n",
       "      <td>2019-04-13 20:04:09.300139</td>\n",
       "      <td>0.907590</td>\n",
       "      <td>0.916224</td>\n",
       "    </tr>\n",
       "    <tr>\n",
       "      <th>2</th>\n",
       "      <td>100</td>\n",
       "      <td>2019-04-13 19:31:55.104226</td>\n",
       "      <td>2019-04-13 19:35:12.794132</td>\n",
       "      <td>200</td>\n",
       "      <td>[{'epoch_end': '2019-04-13 19:30:39.309639', '...</td>\n",
       "      <td>0.006</td>\n",
       "      <td>5</td>\n",
       "      <td>0.00001</td>\n",
       "      <td>2019-04-13 19:30:33.840304</td>\n",
       "      <td>2019-04-13 19:30:05.037369</td>\n",
       "      <td>0.908959</td>\n",
       "      <td>0.917946</td>\n",
       "    </tr>\n",
       "    <tr>\n",
       "      <th>3</th>\n",
       "      <td>100</td>\n",
       "      <td>2019-04-13 19:49:20.070764</td>\n",
       "      <td>2019-04-13 19:51:33.646431</td>\n",
       "      <td>200</td>\n",
       "      <td>[{'epoch_end': '2019-04-13 19:47:56.972470', '...</td>\n",
       "      <td>0.006</td>\n",
       "      <td>5</td>\n",
       "      <td>0.00001</td>\n",
       "      <td>2019-04-13 19:47:51.402916</td>\n",
       "      <td>2019-04-13 19:47:21.174534</td>\n",
       "      <td>0.907163</td>\n",
       "      <td>0.916272</td>\n",
       "    </tr>\n",
       "    <tr>\n",
       "      <th>4</th>\n",
       "      <td>100</td>\n",
       "      <td>2019-04-13 19:55:24.018089</td>\n",
       "      <td>2019-04-13 19:57:33.399526</td>\n",
       "      <td>200</td>\n",
       "      <td>[{'epoch_end': '2019-04-13 19:54:22.565048', '...</td>\n",
       "      <td>0.010</td>\n",
       "      <td>3</td>\n",
       "      <td>0.00001</td>\n",
       "      <td>2019-04-13 19:54:17.354248</td>\n",
       "      <td>2019-04-13 19:53:48.391037</td>\n",
       "      <td>0.897155</td>\n",
       "      <td>0.906135</td>\n",
       "    </tr>\n",
       "    <tr>\n",
       "      <th>5</th>\n",
       "      <td>100</td>\n",
       "      <td>2019-04-13 19:43:57.922127</td>\n",
       "      <td>2019-04-13 19:46:12.036948</td>\n",
       "      <td>200</td>\n",
       "      <td>[{'epoch_end': '2019-04-13 19:42:33.487564', '...</td>\n",
       "      <td>0.006</td>\n",
       "      <td>5</td>\n",
       "      <td>0.00001</td>\n",
       "      <td>2019-04-13 19:42:27.101275</td>\n",
       "      <td>2019-04-13 19:41:33.795184</td>\n",
       "      <td>0.907512</td>\n",
       "      <td>0.916798</td>\n",
       "    </tr>\n",
       "  </tbody>\n",
       "</table>\n",
       "</div>"
      ],
      "text/plain": [
       "   batch            end-compute-time                    end_time  epochs  \\\n",
       "0    100  2019-04-13 19:38:10.781979  2019-04-13 19:40:35.326959     200   \n",
       "1    100  2019-04-13 20:05:55.157591  2019-04-13 20:08:42.346215     200   \n",
       "2    100  2019-04-13 19:31:55.104226  2019-04-13 19:35:12.794132     200   \n",
       "3    100  2019-04-13 19:49:20.070764  2019-04-13 19:51:33.646431     200   \n",
       "4    100  2019-04-13 19:55:24.018089  2019-04-13 19:57:33.399526     200   \n",
       "5    100  2019-04-13 19:43:57.922127  2019-04-13 19:46:12.036948     200   \n",
       "\n",
       "                                        epochs-stats  learning_rate  \\\n",
       "0  [{'epoch_end': '2019-04-13 19:37:03.617977', '...          0.006   \n",
       "1  [{'epoch_end': '2019-04-13 20:04:42.611127', '...          0.010   \n",
       "2  [{'epoch_end': '2019-04-13 19:30:39.309639', '...          0.006   \n",
       "3  [{'epoch_end': '2019-04-13 19:47:56.972470', '...          0.006   \n",
       "4  [{'epoch_end': '2019-04-13 19:54:22.565048', '...          0.010   \n",
       "5  [{'epoch_end': '2019-04-13 19:42:33.487564', '...          0.006   \n",
       "\n",
       "   num_workers  reg_lambda          start-compute-time  \\\n",
       "0            5     0.00001  2019-04-13 19:36:58.318321   \n",
       "1            3     0.00001  2019-04-13 20:04:37.173416   \n",
       "2            5     0.00001  2019-04-13 19:30:33.840304   \n",
       "3            5     0.00001  2019-04-13 19:47:51.402916   \n",
       "4            3     0.00001  2019-04-13 19:54:17.354248   \n",
       "5            5     0.00001  2019-04-13 19:42:27.101275   \n",
       "\n",
       "                   start-time  test_accuracy  train_accuracy  \n",
       "0  2019-04-13 19:36:29.811085       0.865042        0.877062  \n",
       "1  2019-04-13 20:04:09.300139       0.907590        0.916224  \n",
       "2  2019-04-13 19:30:05.037369       0.908959        0.917946  \n",
       "3  2019-04-13 19:47:21.174534       0.907163        0.916272  \n",
       "4  2019-04-13 19:53:48.391037       0.897155        0.906135  \n",
       "5  2019-04-13 19:41:33.795184       0.907512        0.916798  "
      ]
     },
     "execution_count": 290,
     "metadata": {},
     "output_type": "execute_result"
    }
   ],
   "source": [
    "logs = []\n",
    "for path in data_paths:\n",
    "    with open(path) as f:\n",
    "        d = json.load(f)\n",
    "    logs.append(json_normalize(d))\n",
    "data = pd.concat(logs, axis=0, ignore_index=True)\n",
    "data"
   ]
  },
  {
   "cell_type": "code",
   "execution_count": 257,
   "metadata": {},
   "outputs": [
    {
     "data": {
      "image/png": "[encoded data removed]",
      "text/plain": [
       "<Figure size 432x288 with 1 Axes>"
      ]
     },
     "metadata": {
      "needs_background": "light"
     },
     "output_type": "display_data"
    }
   ],
   "source": [
    "by_workers = data.groupby('num_workers')\n",
    "for stats in by_workers['epochs-stats']:\n",
    "    #stats = tuple(num_worker, pd.Series(epochs-stats))\n",
    "    s = stats[1].values\n",
    "    val_loss = np.array([[elem['val_loss'] for elem in one_stat] for one_stat in s])\n",
    "    #val_loss = [[run1-epoch1, run1-epoch2,...], [run2-epoch1, run2-epoch2,...],...]\n",
    "    mean_loss = mean_2d_diff_size(val_loss) #=[mean-epoch1, mean-epoch2, mean-epoch3,...]\n",
    "    plt.plot(mean_loss, label=\"{} workers\".format(stats[0]))\n",
    "plt.legend()\n",
    "plt.title(\"Loss through time\")\n",
    "plt.xlabel('Epochs')\n",
    "plt.ylabel('Train loss')\n",
    "plt.show()"
   ]
  },
  {
   "cell_type": "code",
   "execution_count": 287,
   "metadata": {},
   "outputs": [
    {
     "name": "stdout",
     "output_type": "stream",
     "text": [
      "3 66\n",
      "5 83\n"
     ]
    },
    {
     "data": {
      "text/plain": [
       "([<matplotlib.axis.XTick at 0x7f893737cac8>,\n",
       "  <matplotlib.axis.XTick at 0x7f893724d978>],\n",
       " <a list of 2 Text xticklabel objects>)"
      ]
     },
     "execution_count": 287,
     "metadata": {},
     "output_type": "execute_result"
    },
    {
     "data": {
      "image/png": "[encoded data removed]",
      "text/plain": [
       "<Figure size 432x288 with 1 Axes>"
      ]
     },
     "metadata": {
      "needs_background": "light"
     },
     "output_type": "display_data"
    }
   ],
   "source": [
    "by_workers = data.groupby('num_workers')\n",
    "times = []\n",
    "workers = []\n",
    "for i in by_workers:\n",
    "    start_time = np.array([parse(d) for d in i[1]['start-compute-time'].values])\n",
    "    end_time = np.array([parse(d) for d in i[1]['end-compute-time'].values])\n",
    "    workers.append(i[0])\n",
    "    times.append(np.mean([end_time - start_time]).seconds)\n",
    "    print(workers[-1], times[-1])\n",
    "plt.plot(workers, times, 'o-')\n",
    "plt.xticks(workers)"
   ]
  },
  {
   "cell_type": "code",
   "execution_count": null,
   "metadata": {},
   "outputs": [],
   "source": []
  }
 ],
 "metadata": {
  "kernelspec": {
   "display_name": "Python 3",
   "language": "python",
   "name": "python3"
  },
  "language_info": {
   "codemirror_mode": {
    "name": "ipython",
    "version": 3
   },
   "file_extension": ".py",
   "mimetype": "text/x-python",
   "name": "python",
   "nbconvert_exporter": "python",
   "pygments_lexer": "ipython3",
   "version": "3.7.3"
  }
 },
 "nbformat": 4,
 "nbformat_minor": 2
}
